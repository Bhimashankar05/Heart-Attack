{
 "cells": [
  {
   "cell_type": "code",
   "execution_count": 1,
   "id": "3c36c3b3",
   "metadata": {
    "_cell_guid": "b1076dfc-b9ad-4769-8c92-a6c4dae69d19",
    "_uuid": "8f2839f25d086af736a60e9eeb907d3b93b6e0e5",
    "execution": {
     "iopub.execute_input": "2025-01-13T16:20:23.977991Z",
     "iopub.status.busy": "2025-01-13T16:20:23.977711Z",
     "iopub.status.idle": "2025-01-13T16:20:24.282932Z",
     "shell.execute_reply": "2025-01-13T16:20:24.281823Z"
    },
    "papermill": {
     "duration": 0.312871,
     "end_time": "2025-01-13T16:20:24.284483",
     "exception": false,
     "start_time": "2025-01-13T16:20:23.971612",
     "status": "completed"
    },
    "tags": []
   },
   "outputs": [
    {
     "name": "stdout",
     "output_type": "stream",
     "text": [
      "/kaggle/input/heart-attack-dataset/heart_attack_risk_dataset.csv\n"
     ]
    }
   ],
   "source": [
    "# This Python 3 environment comes with many helpful analytics libraries installed\n",
    "# It is defined by the kaggle/python Docker image: https://github.com/kaggle/docker-python\n",
    "# For example, here's several helpful packages to load\n",
    "\n",
    "import numpy as np # linear algebra\n",
    "import pandas as pd # data processing, CSV file I/O (e.g. pd.read_csv)\n",
    "\n",
    "# Input data files are available in the read-only \"../input/\" directory\n",
    "# For example, running this (by clicking run or pressing Shift+Enter) will list all files under the input directory\n",
    "\n",
    "import os\n",
    "for dirname, _, filenames in os.walk('/kaggle/input'):\n",
    "    for filename in filenames:\n",
    "        print(os.path.join(dirname, filename))\n",
    "\n",
    "# You can write up to 20GB to the current directory (/kaggle/working/) that gets preserved as output when you create a version using \"Save & Run All\" \n",
    "# You can also write temporary files to /kaggle/temp/, but they won't be saved outside of the current session"
   ]
  },
  {
   "cell_type": "code",
   "execution_count": 2,
   "id": "9b82df9b",
   "metadata": {
    "execution": {
     "iopub.execute_input": "2025-01-13T16:20:24.294733Z",
     "iopub.status.busy": "2025-01-13T16:20:24.294374Z",
     "iopub.status.idle": "2025-01-13T16:20:24.298022Z",
     "shell.execute_reply": "2025-01-13T16:20:24.297184Z"
    },
    "papermill": {
     "duration": 0.01041,
     "end_time": "2025-01-13T16:20:24.299701",
     "exception": false,
     "start_time": "2025-01-13T16:20:24.289291",
     "status": "completed"
    },
    "tags": []
   },
   "outputs": [],
   "source": [
    "import pandas as pd\n",
    "import numpy as np"
   ]
  },
  {
   "cell_type": "markdown",
   "id": "21fb3a7d",
   "metadata": {
    "papermill": {
     "duration": 0.003975,
     "end_time": "2025-01-13T16:20:24.308439",
     "exception": false,
     "start_time": "2025-01-13T16:20:24.304464",
     "status": "completed"
    },
    "tags": []
   },
   "source": [
    "Load the Dataset"
   ]
  },
  {
   "cell_type": "code",
   "execution_count": 3,
   "id": "99870052",
   "metadata": {
    "execution": {
     "iopub.execute_input": "2025-01-13T16:20:24.318146Z",
     "iopub.status.busy": "2025-01-13T16:20:24.317807Z",
     "iopub.status.idle": "2025-01-13T16:20:24.493848Z",
     "shell.execute_reply": "2025-01-13T16:20:24.492371Z"
    },
    "papermill": {
     "duration": 0.182584,
     "end_time": "2025-01-13T16:20:24.495335",
     "exception": false,
     "start_time": "2025-01-13T16:20:24.312751",
     "status": "completed"
    },
    "tags": []
   },
   "outputs": [
    {
     "data": {
      "text/html": [
       "<div>\n",
       "<style scoped>\n",
       "    .dataframe tbody tr th:only-of-type {\n",
       "        vertical-align: middle;\n",
       "    }\n",
       "\n",
       "    .dataframe tbody tr th {\n",
       "        vertical-align: top;\n",
       "    }\n",
       "\n",
       "    .dataframe thead th {\n",
       "        text-align: right;\n",
       "    }\n",
       "</style>\n",
       "<table border=\"1\" class=\"dataframe\">\n",
       "  <thead>\n",
       "    <tr style=\"text-align: right;\">\n",
       "      <th></th>\n",
       "      <th>Age</th>\n",
       "      <th>Gender</th>\n",
       "      <th>Smoking</th>\n",
       "      <th>Alcohol_Consumption</th>\n",
       "      <th>Physical_Activity_Level</th>\n",
       "      <th>BMI</th>\n",
       "      <th>Diabetes</th>\n",
       "      <th>Hypertension</th>\n",
       "      <th>Cholesterol_Level</th>\n",
       "      <th>Resting_BP</th>\n",
       "      <th>Heart_Rate</th>\n",
       "      <th>Family_History</th>\n",
       "      <th>Stress_Level</th>\n",
       "      <th>Chest_Pain_Type</th>\n",
       "      <th>Thalassemia</th>\n",
       "      <th>Fasting_Blood_Sugar</th>\n",
       "      <th>ECG_Results</th>\n",
       "      <th>Exercise_Induced_Angina</th>\n",
       "      <th>Max_Heart_Rate_Achieved</th>\n",
       "      <th>Heart_Attack_Risk</th>\n",
       "    </tr>\n",
       "  </thead>\n",
       "  <tbody>\n",
       "    <tr>\n",
       "      <th>0</th>\n",
       "      <td>69</td>\n",
       "      <td>Female</td>\n",
       "      <td>1</td>\n",
       "      <td>0</td>\n",
       "      <td>Moderate</td>\n",
       "      <td>34.61</td>\n",
       "      <td>1</td>\n",
       "      <td>0</td>\n",
       "      <td>152.1</td>\n",
       "      <td>171</td>\n",
       "      <td>85</td>\n",
       "      <td>0</td>\n",
       "      <td>Moderate</td>\n",
       "      <td>Non-anginal</td>\n",
       "      <td>Reversible defect</td>\n",
       "      <td>0</td>\n",
       "      <td>Normal</td>\n",
       "      <td>0</td>\n",
       "      <td>114</td>\n",
       "      <td>Low</td>\n",
       "    </tr>\n",
       "    <tr>\n",
       "      <th>1</th>\n",
       "      <td>32</td>\n",
       "      <td>Male</td>\n",
       "      <td>0</td>\n",
       "      <td>0</td>\n",
       "      <td>Moderate</td>\n",
       "      <td>22.75</td>\n",
       "      <td>0</td>\n",
       "      <td>0</td>\n",
       "      <td>166.8</td>\n",
       "      <td>126</td>\n",
       "      <td>103</td>\n",
       "      <td>0</td>\n",
       "      <td>Low</td>\n",
       "      <td>Asymptomatic</td>\n",
       "      <td>Normal</td>\n",
       "      <td>0</td>\n",
       "      <td>ST-T abnormality</td>\n",
       "      <td>0</td>\n",
       "      <td>173</td>\n",
       "      <td>Moderate</td>\n",
       "    </tr>\n",
       "    <tr>\n",
       "      <th>2</th>\n",
       "      <td>89</td>\n",
       "      <td>Male</td>\n",
       "      <td>0</td>\n",
       "      <td>1</td>\n",
       "      <td>Moderate</td>\n",
       "      <td>35.32</td>\n",
       "      <td>0</td>\n",
       "      <td>0</td>\n",
       "      <td>272.3</td>\n",
       "      <td>123</td>\n",
       "      <td>127</td>\n",
       "      <td>0</td>\n",
       "      <td>Low</td>\n",
       "      <td>Typical</td>\n",
       "      <td>Reversible defect</td>\n",
       "      <td>0</td>\n",
       "      <td>ST-T abnormality</td>\n",
       "      <td>0</td>\n",
       "      <td>109</td>\n",
       "      <td>Low</td>\n",
       "    </tr>\n",
       "    <tr>\n",
       "      <th>3</th>\n",
       "      <td>78</td>\n",
       "      <td>Male</td>\n",
       "      <td>0</td>\n",
       "      <td>1</td>\n",
       "      <td>Moderate</td>\n",
       "      <td>18.23</td>\n",
       "      <td>1</td>\n",
       "      <td>0</td>\n",
       "      <td>237.7</td>\n",
       "      <td>144</td>\n",
       "      <td>125</td>\n",
       "      <td>0</td>\n",
       "      <td>Low</td>\n",
       "      <td>Typical</td>\n",
       "      <td>Fixed defect</td>\n",
       "      <td>1</td>\n",
       "      <td>Left Ventricular Hypertrophy</td>\n",
       "      <td>0</td>\n",
       "      <td>129</td>\n",
       "      <td>Low</td>\n",
       "    </tr>\n",
       "    <tr>\n",
       "      <th>4</th>\n",
       "      <td>38</td>\n",
       "      <td>Female</td>\n",
       "      <td>1</td>\n",
       "      <td>0</td>\n",
       "      <td>Moderate</td>\n",
       "      <td>19.82</td>\n",
       "      <td>0</td>\n",
       "      <td>0</td>\n",
       "      <td>207.7</td>\n",
       "      <td>123</td>\n",
       "      <td>107</td>\n",
       "      <td>0</td>\n",
       "      <td>High</td>\n",
       "      <td>Asymptomatic</td>\n",
       "      <td>Reversible defect</td>\n",
       "      <td>0</td>\n",
       "      <td>ST-T abnormality</td>\n",
       "      <td>0</td>\n",
       "      <td>124</td>\n",
       "      <td>Moderate</td>\n",
       "    </tr>\n",
       "    <tr>\n",
       "      <th>...</th>\n",
       "      <td>...</td>\n",
       "      <td>...</td>\n",
       "      <td>...</td>\n",
       "      <td>...</td>\n",
       "      <td>...</td>\n",
       "      <td>...</td>\n",
       "      <td>...</td>\n",
       "      <td>...</td>\n",
       "      <td>...</td>\n",
       "      <td>...</td>\n",
       "      <td>...</td>\n",
       "      <td>...</td>\n",
       "      <td>...</td>\n",
       "      <td>...</td>\n",
       "      <td>...</td>\n",
       "      <td>...</td>\n",
       "      <td>...</td>\n",
       "      <td>...</td>\n",
       "      <td>...</td>\n",
       "      <td>...</td>\n",
       "    </tr>\n",
       "    <tr>\n",
       "      <th>49995</th>\n",
       "      <td>21</td>\n",
       "      <td>Male</td>\n",
       "      <td>0</td>\n",
       "      <td>0</td>\n",
       "      <td>Low</td>\n",
       "      <td>39.93</td>\n",
       "      <td>0</td>\n",
       "      <td>0</td>\n",
       "      <td>269.9</td>\n",
       "      <td>171</td>\n",
       "      <td>113</td>\n",
       "      <td>0</td>\n",
       "      <td>High</td>\n",
       "      <td>Typical</td>\n",
       "      <td>Reversible defect</td>\n",
       "      <td>0</td>\n",
       "      <td>ST-T abnormality</td>\n",
       "      <td>0</td>\n",
       "      <td>122</td>\n",
       "      <td>High</td>\n",
       "    </tr>\n",
       "    <tr>\n",
       "      <th>49996</th>\n",
       "      <td>35</td>\n",
       "      <td>Female</td>\n",
       "      <td>0</td>\n",
       "      <td>0</td>\n",
       "      <td>Low</td>\n",
       "      <td>18.10</td>\n",
       "      <td>0</td>\n",
       "      <td>0</td>\n",
       "      <td>235.8</td>\n",
       "      <td>146</td>\n",
       "      <td>71</td>\n",
       "      <td>0</td>\n",
       "      <td>Moderate</td>\n",
       "      <td>Non-anginal</td>\n",
       "      <td>Fixed defect</td>\n",
       "      <td>1</td>\n",
       "      <td>ST-T abnormality</td>\n",
       "      <td>0</td>\n",
       "      <td>121</td>\n",
       "      <td>Moderate</td>\n",
       "    </tr>\n",
       "    <tr>\n",
       "      <th>49997</th>\n",
       "      <td>46</td>\n",
       "      <td>Male</td>\n",
       "      <td>0</td>\n",
       "      <td>1</td>\n",
       "      <td>High</td>\n",
       "      <td>21.42</td>\n",
       "      <td>0</td>\n",
       "      <td>0</td>\n",
       "      <td>172.8</td>\n",
       "      <td>146</td>\n",
       "      <td>85</td>\n",
       "      <td>1</td>\n",
       "      <td>Low</td>\n",
       "      <td>Typical</td>\n",
       "      <td>Fixed defect</td>\n",
       "      <td>0</td>\n",
       "      <td>Left Ventricular Hypertrophy</td>\n",
       "      <td>0</td>\n",
       "      <td>125</td>\n",
       "      <td>Low</td>\n",
       "    </tr>\n",
       "    <tr>\n",
       "      <th>49998</th>\n",
       "      <td>56</td>\n",
       "      <td>Male</td>\n",
       "      <td>0</td>\n",
       "      <td>1</td>\n",
       "      <td>Low</td>\n",
       "      <td>29.93</td>\n",
       "      <td>0</td>\n",
       "      <td>0</td>\n",
       "      <td>244.1</td>\n",
       "      <td>151</td>\n",
       "      <td>110</td>\n",
       "      <td>0</td>\n",
       "      <td>Low</td>\n",
       "      <td>Asymptomatic</td>\n",
       "      <td>Reversible defect</td>\n",
       "      <td>0</td>\n",
       "      <td>Normal</td>\n",
       "      <td>0</td>\n",
       "      <td>149</td>\n",
       "      <td>Moderate</td>\n",
       "    </tr>\n",
       "    <tr>\n",
       "      <th>49999</th>\n",
       "      <td>72</td>\n",
       "      <td>Male</td>\n",
       "      <td>0</td>\n",
       "      <td>0</td>\n",
       "      <td>High</td>\n",
       "      <td>30.85</td>\n",
       "      <td>0</td>\n",
       "      <td>0</td>\n",
       "      <td>191.8</td>\n",
       "      <td>142</td>\n",
       "      <td>70</td>\n",
       "      <td>0</td>\n",
       "      <td>High</td>\n",
       "      <td>Asymptomatic</td>\n",
       "      <td>Normal</td>\n",
       "      <td>0</td>\n",
       "      <td>ST-T abnormality</td>\n",
       "      <td>0</td>\n",
       "      <td>144</td>\n",
       "      <td>Moderate</td>\n",
       "    </tr>\n",
       "  </tbody>\n",
       "</table>\n",
       "<p>50000 rows × 20 columns</p>\n",
       "</div>"
      ],
      "text/plain": [
       "       Age  Gender  Smoking  Alcohol_Consumption Physical_Activity_Level  \\\n",
       "0       69  Female        1                    0                Moderate   \n",
       "1       32    Male        0                    0                Moderate   \n",
       "2       89    Male        0                    1                Moderate   \n",
       "3       78    Male        0                    1                Moderate   \n",
       "4       38  Female        1                    0                Moderate   \n",
       "...    ...     ...      ...                  ...                     ...   \n",
       "49995   21    Male        0                    0                     Low   \n",
       "49996   35  Female        0                    0                     Low   \n",
       "49997   46    Male        0                    1                    High   \n",
       "49998   56    Male        0                    1                     Low   \n",
       "49999   72    Male        0                    0                    High   \n",
       "\n",
       "         BMI  Diabetes  Hypertension  Cholesterol_Level  Resting_BP  \\\n",
       "0      34.61         1             0              152.1         171   \n",
       "1      22.75         0             0              166.8         126   \n",
       "2      35.32         0             0              272.3         123   \n",
       "3      18.23         1             0              237.7         144   \n",
       "4      19.82         0             0              207.7         123   \n",
       "...      ...       ...           ...                ...         ...   \n",
       "49995  39.93         0             0              269.9         171   \n",
       "49996  18.10         0             0              235.8         146   \n",
       "49997  21.42         0             0              172.8         146   \n",
       "49998  29.93         0             0              244.1         151   \n",
       "49999  30.85         0             0              191.8         142   \n",
       "\n",
       "       Heart_Rate  Family_History Stress_Level Chest_Pain_Type  \\\n",
       "0              85               0     Moderate     Non-anginal   \n",
       "1             103               0          Low    Asymptomatic   \n",
       "2             127               0          Low         Typical   \n",
       "3             125               0          Low         Typical   \n",
       "4             107               0         High    Asymptomatic   \n",
       "...           ...             ...          ...             ...   \n",
       "49995         113               0         High         Typical   \n",
       "49996          71               0     Moderate     Non-anginal   \n",
       "49997          85               1          Low         Typical   \n",
       "49998         110               0          Low    Asymptomatic   \n",
       "49999          70               0         High    Asymptomatic   \n",
       "\n",
       "             Thalassemia  Fasting_Blood_Sugar                   ECG_Results  \\\n",
       "0      Reversible defect                    0                        Normal   \n",
       "1                 Normal                    0              ST-T abnormality   \n",
       "2      Reversible defect                    0              ST-T abnormality   \n",
       "3           Fixed defect                    1  Left Ventricular Hypertrophy   \n",
       "4      Reversible defect                    0              ST-T abnormality   \n",
       "...                  ...                  ...                           ...   \n",
       "49995  Reversible defect                    0              ST-T abnormality   \n",
       "49996       Fixed defect                    1              ST-T abnormality   \n",
       "49997       Fixed defect                    0  Left Ventricular Hypertrophy   \n",
       "49998  Reversible defect                    0                        Normal   \n",
       "49999             Normal                    0              ST-T abnormality   \n",
       "\n",
       "       Exercise_Induced_Angina  Max_Heart_Rate_Achieved Heart_Attack_Risk  \n",
       "0                            0                      114               Low  \n",
       "1                            0                      173          Moderate  \n",
       "2                            0                      109               Low  \n",
       "3                            0                      129               Low  \n",
       "4                            0                      124          Moderate  \n",
       "...                        ...                      ...               ...  \n",
       "49995                        0                      122              High  \n",
       "49996                        0                      121          Moderate  \n",
       "49997                        0                      125               Low  \n",
       "49998                        0                      149          Moderate  \n",
       "49999                        0                      144          Moderate  \n",
       "\n",
       "[50000 rows x 20 columns]"
      ]
     },
     "execution_count": 3,
     "metadata": {},
     "output_type": "execute_result"
    }
   ],
   "source": [
    "f=pd.read_csv('/kaggle/input/heart-attack-dataset/heart_attack_risk_dataset.csv')\n",
    "f"
   ]
  },
  {
   "cell_type": "markdown",
   "id": "34d862d9",
   "metadata": {
    "papermill": {
     "duration": 0.004165,
     "end_time": "2025-01-13T16:20:24.504219",
     "exception": false,
     "start_time": "2025-01-13T16:20:24.500054",
     "status": "completed"
    },
    "tags": []
   },
   "source": [
    "CHeck the number of rows and columns"
   ]
  },
  {
   "cell_type": "code",
   "execution_count": 4,
   "id": "9c85facd",
   "metadata": {
    "execution": {
     "iopub.execute_input": "2025-01-13T16:20:24.514023Z",
     "iopub.status.busy": "2025-01-13T16:20:24.513760Z",
     "iopub.status.idle": "2025-01-13T16:20:24.518441Z",
     "shell.execute_reply": "2025-01-13T16:20:24.517731Z"
    },
    "papermill": {
     "duration": 0.011624,
     "end_time": "2025-01-13T16:20:24.520181",
     "exception": false,
     "start_time": "2025-01-13T16:20:24.508557",
     "status": "completed"
    },
    "tags": []
   },
   "outputs": [
    {
     "data": {
      "text/plain": [
       "(50000, 20)"
      ]
     },
     "execution_count": 4,
     "metadata": {},
     "output_type": "execute_result"
    }
   ],
   "source": [
    "f.shape"
   ]
  },
  {
   "cell_type": "markdown",
   "id": "5f4270fa",
   "metadata": {
    "papermill": {
     "duration": 0.004323,
     "end_time": "2025-01-13T16:20:24.529492",
     "exception": false,
     "start_time": "2025-01-13T16:20:24.525169",
     "status": "completed"
    },
    "tags": []
   },
   "source": [
    "Check data types and null values"
   ]
  },
  {
   "cell_type": "code",
   "execution_count": 5,
   "id": "b7f00819",
   "metadata": {
    "execution": {
     "iopub.execute_input": "2025-01-13T16:20:24.540610Z",
     "iopub.status.busy": "2025-01-13T16:20:24.540311Z",
     "iopub.status.idle": "2025-01-13T16:20:24.576330Z",
     "shell.execute_reply": "2025-01-13T16:20:24.575214Z"
    },
    "papermill": {
     "duration": 0.043671,
     "end_time": "2025-01-13T16:20:24.577882",
     "exception": false,
     "start_time": "2025-01-13T16:20:24.534211",
     "status": "completed"
    },
    "tags": []
   },
   "outputs": [
    {
     "name": "stdout",
     "output_type": "stream",
     "text": [
      "<class 'pandas.core.frame.DataFrame'>\n",
      "RangeIndex: 50000 entries, 0 to 49999\n",
      "Data columns (total 20 columns):\n",
      " #   Column                   Non-Null Count  Dtype  \n",
      "---  ------                   --------------  -----  \n",
      " 0   Age                      50000 non-null  int64  \n",
      " 1   Gender                   50000 non-null  object \n",
      " 2   Smoking                  50000 non-null  int64  \n",
      " 3   Alcohol_Consumption      50000 non-null  int64  \n",
      " 4   Physical_Activity_Level  50000 non-null  object \n",
      " 5   BMI                      50000 non-null  float64\n",
      " 6   Diabetes                 50000 non-null  int64  \n",
      " 7   Hypertension             50000 non-null  int64  \n",
      " 8   Cholesterol_Level        50000 non-null  float64\n",
      " 9   Resting_BP               50000 non-null  int64  \n",
      " 10  Heart_Rate               50000 non-null  int64  \n",
      " 11  Family_History           50000 non-null  int64  \n",
      " 12  Stress_Level             50000 non-null  object \n",
      " 13  Chest_Pain_Type          50000 non-null  object \n",
      " 14  Thalassemia              50000 non-null  object \n",
      " 15  Fasting_Blood_Sugar      50000 non-null  int64  \n",
      " 16  ECG_Results              50000 non-null  object \n",
      " 17  Exercise_Induced_Angina  50000 non-null  int64  \n",
      " 18  Max_Heart_Rate_Achieved  50000 non-null  int64  \n",
      " 19  Heart_Attack_Risk        50000 non-null  object \n",
      "dtypes: float64(2), int64(11), object(7)\n",
      "memory usage: 7.6+ MB\n"
     ]
    }
   ],
   "source": [
    "f.info()"
   ]
  },
  {
   "cell_type": "markdown",
   "id": "f0cb5781",
   "metadata": {
    "papermill": {
     "duration": 0.004413,
     "end_time": "2025-01-13T16:20:24.587384",
     "exception": false,
     "start_time": "2025-01-13T16:20:24.582971",
     "status": "completed"
    },
    "tags": []
   },
   "source": [
    "Get summary statistics"
   ]
  },
  {
   "cell_type": "code",
   "execution_count": 6,
   "id": "d054e78e",
   "metadata": {
    "execution": {
     "iopub.execute_input": "2025-01-13T16:20:24.598371Z",
     "iopub.status.busy": "2025-01-13T16:20:24.597570Z",
     "iopub.status.idle": "2025-01-13T16:20:24.646035Z",
     "shell.execute_reply": "2025-01-13T16:20:24.644658Z"
    },
    "papermill": {
     "duration": 0.055736,
     "end_time": "2025-01-13T16:20:24.647764",
     "exception": false,
     "start_time": "2025-01-13T16:20:24.592028",
     "status": "completed"
    },
    "tags": []
   },
   "outputs": [
    {
     "data": {
      "text/html": [
       "<div>\n",
       "<style scoped>\n",
       "    .dataframe tbody tr th:only-of-type {\n",
       "        vertical-align: middle;\n",
       "    }\n",
       "\n",
       "    .dataframe tbody tr th {\n",
       "        vertical-align: top;\n",
       "    }\n",
       "\n",
       "    .dataframe thead th {\n",
       "        text-align: right;\n",
       "    }\n",
       "</style>\n",
       "<table border=\"1\" class=\"dataframe\">\n",
       "  <thead>\n",
       "    <tr style=\"text-align: right;\">\n",
       "      <th></th>\n",
       "      <th>Age</th>\n",
       "      <th>Smoking</th>\n",
       "      <th>Alcohol_Consumption</th>\n",
       "      <th>BMI</th>\n",
       "      <th>Diabetes</th>\n",
       "      <th>Hypertension</th>\n",
       "      <th>Cholesterol_Level</th>\n",
       "      <th>Resting_BP</th>\n",
       "      <th>Heart_Rate</th>\n",
       "      <th>Family_History</th>\n",
       "      <th>Fasting_Blood_Sugar</th>\n",
       "      <th>Exercise_Induced_Angina</th>\n",
       "      <th>Max_Heart_Rate_Achieved</th>\n",
       "    </tr>\n",
       "  </thead>\n",
       "  <tbody>\n",
       "    <tr>\n",
       "      <th>count</th>\n",
       "      <td>50000.000000</td>\n",
       "      <td>50000.000000</td>\n",
       "      <td>50000.000000</td>\n",
       "      <td>50000.000000</td>\n",
       "      <td>50000.000000</td>\n",
       "      <td>50000.00000</td>\n",
       "      <td>50000.000000</td>\n",
       "      <td>50000.000000</td>\n",
       "      <td>50000.000000</td>\n",
       "      <td>50000.00000</td>\n",
       "      <td>50000.000000</td>\n",
       "      <td>50000.000000</td>\n",
       "      <td>50000.000000</td>\n",
       "    </tr>\n",
       "    <tr>\n",
       "      <th>mean</th>\n",
       "      <td>53.398700</td>\n",
       "      <td>0.298420</td>\n",
       "      <td>0.401980</td>\n",
       "      <td>27.519357</td>\n",
       "      <td>0.198840</td>\n",
       "      <td>0.29738</td>\n",
       "      <td>225.036444</td>\n",
       "      <td>134.434100</td>\n",
       "      <td>94.530480</td>\n",
       "      <td>0.30034</td>\n",
       "      <td>0.149360</td>\n",
       "      <td>0.201640</td>\n",
       "      <td>149.305340</td>\n",
       "    </tr>\n",
       "    <tr>\n",
       "      <th>std</th>\n",
       "      <td>20.799006</td>\n",
       "      <td>0.457569</td>\n",
       "      <td>0.490303</td>\n",
       "      <td>7.225176</td>\n",
       "      <td>0.399131</td>\n",
       "      <td>0.45711</td>\n",
       "      <td>43.317373</td>\n",
       "      <td>25.907961</td>\n",
       "      <td>20.187124</td>\n",
       "      <td>0.45841</td>\n",
       "      <td>0.356447</td>\n",
       "      <td>0.401229</td>\n",
       "      <td>28.823699</td>\n",
       "    </tr>\n",
       "    <tr>\n",
       "      <th>min</th>\n",
       "      <td>18.000000</td>\n",
       "      <td>0.000000</td>\n",
       "      <td>0.000000</td>\n",
       "      <td>15.000000</td>\n",
       "      <td>0.000000</td>\n",
       "      <td>0.00000</td>\n",
       "      <td>150.000000</td>\n",
       "      <td>90.000000</td>\n",
       "      <td>60.000000</td>\n",
       "      <td>0.00000</td>\n",
       "      <td>0.000000</td>\n",
       "      <td>0.000000</td>\n",
       "      <td>100.000000</td>\n",
       "    </tr>\n",
       "    <tr>\n",
       "      <th>25%</th>\n",
       "      <td>35.000000</td>\n",
       "      <td>0.000000</td>\n",
       "      <td>0.000000</td>\n",
       "      <td>21.270000</td>\n",
       "      <td>0.000000</td>\n",
       "      <td>0.00000</td>\n",
       "      <td>187.300000</td>\n",
       "      <td>112.000000</td>\n",
       "      <td>77.000000</td>\n",
       "      <td>0.00000</td>\n",
       "      <td>0.000000</td>\n",
       "      <td>0.000000</td>\n",
       "      <td>124.000000</td>\n",
       "    </tr>\n",
       "    <tr>\n",
       "      <th>50%</th>\n",
       "      <td>53.000000</td>\n",
       "      <td>0.000000</td>\n",
       "      <td>0.000000</td>\n",
       "      <td>27.540000</td>\n",
       "      <td>0.000000</td>\n",
       "      <td>0.00000</td>\n",
       "      <td>225.100000</td>\n",
       "      <td>134.000000</td>\n",
       "      <td>94.000000</td>\n",
       "      <td>0.00000</td>\n",
       "      <td>0.000000</td>\n",
       "      <td>0.000000</td>\n",
       "      <td>149.000000</td>\n",
       "    </tr>\n",
       "    <tr>\n",
       "      <th>75%</th>\n",
       "      <td>71.000000</td>\n",
       "      <td>1.000000</td>\n",
       "      <td>1.000000</td>\n",
       "      <td>33.770000</td>\n",
       "      <td>0.000000</td>\n",
       "      <td>1.00000</td>\n",
       "      <td>262.600000</td>\n",
       "      <td>157.000000</td>\n",
       "      <td>112.000000</td>\n",
       "      <td>1.00000</td>\n",
       "      <td>0.000000</td>\n",
       "      <td>0.000000</td>\n",
       "      <td>174.000000</td>\n",
       "    </tr>\n",
       "    <tr>\n",
       "      <th>max</th>\n",
       "      <td>89.000000</td>\n",
       "      <td>1.000000</td>\n",
       "      <td>1.000000</td>\n",
       "      <td>40.000000</td>\n",
       "      <td>1.000000</td>\n",
       "      <td>1.00000</td>\n",
       "      <td>300.000000</td>\n",
       "      <td>179.000000</td>\n",
       "      <td>129.000000</td>\n",
       "      <td>1.00000</td>\n",
       "      <td>1.000000</td>\n",
       "      <td>1.000000</td>\n",
       "      <td>199.000000</td>\n",
       "    </tr>\n",
       "  </tbody>\n",
       "</table>\n",
       "</div>"
      ],
      "text/plain": [
       "                Age       Smoking  Alcohol_Consumption           BMI  \\\n",
       "count  50000.000000  50000.000000         50000.000000  50000.000000   \n",
       "mean      53.398700      0.298420             0.401980     27.519357   \n",
       "std       20.799006      0.457569             0.490303      7.225176   \n",
       "min       18.000000      0.000000             0.000000     15.000000   \n",
       "25%       35.000000      0.000000             0.000000     21.270000   \n",
       "50%       53.000000      0.000000             0.000000     27.540000   \n",
       "75%       71.000000      1.000000             1.000000     33.770000   \n",
       "max       89.000000      1.000000             1.000000     40.000000   \n",
       "\n",
       "           Diabetes  Hypertension  Cholesterol_Level    Resting_BP  \\\n",
       "count  50000.000000   50000.00000       50000.000000  50000.000000   \n",
       "mean       0.198840       0.29738         225.036444    134.434100   \n",
       "std        0.399131       0.45711          43.317373     25.907961   \n",
       "min        0.000000       0.00000         150.000000     90.000000   \n",
       "25%        0.000000       0.00000         187.300000    112.000000   \n",
       "50%        0.000000       0.00000         225.100000    134.000000   \n",
       "75%        0.000000       1.00000         262.600000    157.000000   \n",
       "max        1.000000       1.00000         300.000000    179.000000   \n",
       "\n",
       "         Heart_Rate  Family_History  Fasting_Blood_Sugar  \\\n",
       "count  50000.000000     50000.00000         50000.000000   \n",
       "mean      94.530480         0.30034             0.149360   \n",
       "std       20.187124         0.45841             0.356447   \n",
       "min       60.000000         0.00000             0.000000   \n",
       "25%       77.000000         0.00000             0.000000   \n",
       "50%       94.000000         0.00000             0.000000   \n",
       "75%      112.000000         1.00000             0.000000   \n",
       "max      129.000000         1.00000             1.000000   \n",
       "\n",
       "       Exercise_Induced_Angina  Max_Heart_Rate_Achieved  \n",
       "count             50000.000000             50000.000000  \n",
       "mean                  0.201640               149.305340  \n",
       "std                   0.401229                28.823699  \n",
       "min                   0.000000               100.000000  \n",
       "25%                   0.000000               124.000000  \n",
       "50%                   0.000000               149.000000  \n",
       "75%                   0.000000               174.000000  \n",
       "max                   1.000000               199.000000  "
      ]
     },
     "execution_count": 6,
     "metadata": {},
     "output_type": "execute_result"
    }
   ],
   "source": [
    "f.describe()"
   ]
  },
  {
   "cell_type": "markdown",
   "id": "93c65f15",
   "metadata": {
    "papermill": {
     "duration": 0.00489,
     "end_time": "2025-01-13T16:20:24.658436",
     "exception": false,
     "start_time": "2025-01-13T16:20:24.653546",
     "status": "completed"
    },
    "tags": []
   },
   "source": [
    "Get the size"
   ]
  },
  {
   "cell_type": "code",
   "execution_count": 7,
   "id": "ebb33170",
   "metadata": {
    "execution": {
     "iopub.execute_input": "2025-01-13T16:20:24.670489Z",
     "iopub.status.busy": "2025-01-13T16:20:24.670189Z",
     "iopub.status.idle": "2025-01-13T16:20:24.675748Z",
     "shell.execute_reply": "2025-01-13T16:20:24.674823Z"
    },
    "papermill": {
     "duration": 0.013075,
     "end_time": "2025-01-13T16:20:24.677221",
     "exception": false,
     "start_time": "2025-01-13T16:20:24.664146",
     "status": "completed"
    },
    "tags": []
   },
   "outputs": [
    {
     "data": {
      "text/plain": [
       "1000000"
      ]
     },
     "execution_count": 7,
     "metadata": {},
     "output_type": "execute_result"
    }
   ],
   "source": [
    "f.size"
   ]
  },
  {
   "cell_type": "markdown",
   "id": "f8b28959",
   "metadata": {
    "papermill": {
     "duration": 0.0045,
     "end_time": "2025-01-13T16:20:24.686947",
     "exception": false,
     "start_time": "2025-01-13T16:20:24.682447",
     "status": "completed"
    },
    "tags": []
   },
   "source": [
    "View the first few rows"
   ]
  },
  {
   "cell_type": "code",
   "execution_count": 8,
   "id": "d16583f9",
   "metadata": {
    "execution": {
     "iopub.execute_input": "2025-01-13T16:20:24.697701Z",
     "iopub.status.busy": "2025-01-13T16:20:24.697442Z",
     "iopub.status.idle": "2025-01-13T16:20:24.713301Z",
     "shell.execute_reply": "2025-01-13T16:20:24.711983Z"
    },
    "papermill": {
     "duration": 0.0234,
     "end_time": "2025-01-13T16:20:24.715003",
     "exception": false,
     "start_time": "2025-01-13T16:20:24.691603",
     "status": "completed"
    },
    "tags": []
   },
   "outputs": [
    {
     "data": {
      "text/html": [
       "<div>\n",
       "<style scoped>\n",
       "    .dataframe tbody tr th:only-of-type {\n",
       "        vertical-align: middle;\n",
       "    }\n",
       "\n",
       "    .dataframe tbody tr th {\n",
       "        vertical-align: top;\n",
       "    }\n",
       "\n",
       "    .dataframe thead th {\n",
       "        text-align: right;\n",
       "    }\n",
       "</style>\n",
       "<table border=\"1\" class=\"dataframe\">\n",
       "  <thead>\n",
       "    <tr style=\"text-align: right;\">\n",
       "      <th></th>\n",
       "      <th>Age</th>\n",
       "      <th>Gender</th>\n",
       "      <th>Smoking</th>\n",
       "      <th>Alcohol_Consumption</th>\n",
       "      <th>Physical_Activity_Level</th>\n",
       "      <th>BMI</th>\n",
       "      <th>Diabetes</th>\n",
       "      <th>Hypertension</th>\n",
       "      <th>Cholesterol_Level</th>\n",
       "      <th>Resting_BP</th>\n",
       "      <th>Heart_Rate</th>\n",
       "      <th>Family_History</th>\n",
       "      <th>Stress_Level</th>\n",
       "      <th>Chest_Pain_Type</th>\n",
       "      <th>Thalassemia</th>\n",
       "      <th>Fasting_Blood_Sugar</th>\n",
       "      <th>ECG_Results</th>\n",
       "      <th>Exercise_Induced_Angina</th>\n",
       "      <th>Max_Heart_Rate_Achieved</th>\n",
       "      <th>Heart_Attack_Risk</th>\n",
       "    </tr>\n",
       "  </thead>\n",
       "  <tbody>\n",
       "    <tr>\n",
       "      <th>0</th>\n",
       "      <td>69</td>\n",
       "      <td>Female</td>\n",
       "      <td>1</td>\n",
       "      <td>0</td>\n",
       "      <td>Moderate</td>\n",
       "      <td>34.61</td>\n",
       "      <td>1</td>\n",
       "      <td>0</td>\n",
       "      <td>152.1</td>\n",
       "      <td>171</td>\n",
       "      <td>85</td>\n",
       "      <td>0</td>\n",
       "      <td>Moderate</td>\n",
       "      <td>Non-anginal</td>\n",
       "      <td>Reversible defect</td>\n",
       "      <td>0</td>\n",
       "      <td>Normal</td>\n",
       "      <td>0</td>\n",
       "      <td>114</td>\n",
       "      <td>Low</td>\n",
       "    </tr>\n",
       "    <tr>\n",
       "      <th>1</th>\n",
       "      <td>32</td>\n",
       "      <td>Male</td>\n",
       "      <td>0</td>\n",
       "      <td>0</td>\n",
       "      <td>Moderate</td>\n",
       "      <td>22.75</td>\n",
       "      <td>0</td>\n",
       "      <td>0</td>\n",
       "      <td>166.8</td>\n",
       "      <td>126</td>\n",
       "      <td>103</td>\n",
       "      <td>0</td>\n",
       "      <td>Low</td>\n",
       "      <td>Asymptomatic</td>\n",
       "      <td>Normal</td>\n",
       "      <td>0</td>\n",
       "      <td>ST-T abnormality</td>\n",
       "      <td>0</td>\n",
       "      <td>173</td>\n",
       "      <td>Moderate</td>\n",
       "    </tr>\n",
       "    <tr>\n",
       "      <th>2</th>\n",
       "      <td>89</td>\n",
       "      <td>Male</td>\n",
       "      <td>0</td>\n",
       "      <td>1</td>\n",
       "      <td>Moderate</td>\n",
       "      <td>35.32</td>\n",
       "      <td>0</td>\n",
       "      <td>0</td>\n",
       "      <td>272.3</td>\n",
       "      <td>123</td>\n",
       "      <td>127</td>\n",
       "      <td>0</td>\n",
       "      <td>Low</td>\n",
       "      <td>Typical</td>\n",
       "      <td>Reversible defect</td>\n",
       "      <td>0</td>\n",
       "      <td>ST-T abnormality</td>\n",
       "      <td>0</td>\n",
       "      <td>109</td>\n",
       "      <td>Low</td>\n",
       "    </tr>\n",
       "    <tr>\n",
       "      <th>3</th>\n",
       "      <td>78</td>\n",
       "      <td>Male</td>\n",
       "      <td>0</td>\n",
       "      <td>1</td>\n",
       "      <td>Moderate</td>\n",
       "      <td>18.23</td>\n",
       "      <td>1</td>\n",
       "      <td>0</td>\n",
       "      <td>237.7</td>\n",
       "      <td>144</td>\n",
       "      <td>125</td>\n",
       "      <td>0</td>\n",
       "      <td>Low</td>\n",
       "      <td>Typical</td>\n",
       "      <td>Fixed defect</td>\n",
       "      <td>1</td>\n",
       "      <td>Left Ventricular Hypertrophy</td>\n",
       "      <td>0</td>\n",
       "      <td>129</td>\n",
       "      <td>Low</td>\n",
       "    </tr>\n",
       "    <tr>\n",
       "      <th>4</th>\n",
       "      <td>38</td>\n",
       "      <td>Female</td>\n",
       "      <td>1</td>\n",
       "      <td>0</td>\n",
       "      <td>Moderate</td>\n",
       "      <td>19.82</td>\n",
       "      <td>0</td>\n",
       "      <td>0</td>\n",
       "      <td>207.7</td>\n",
       "      <td>123</td>\n",
       "      <td>107</td>\n",
       "      <td>0</td>\n",
       "      <td>High</td>\n",
       "      <td>Asymptomatic</td>\n",
       "      <td>Reversible defect</td>\n",
       "      <td>0</td>\n",
       "      <td>ST-T abnormality</td>\n",
       "      <td>0</td>\n",
       "      <td>124</td>\n",
       "      <td>Moderate</td>\n",
       "    </tr>\n",
       "    <tr>\n",
       "      <th>5</th>\n",
       "      <td>41</td>\n",
       "      <td>Male</td>\n",
       "      <td>0</td>\n",
       "      <td>1</td>\n",
       "      <td>Moderate</td>\n",
       "      <td>36.11</td>\n",
       "      <td>0</td>\n",
       "      <td>0</td>\n",
       "      <td>271.2</td>\n",
       "      <td>141</td>\n",
       "      <td>119</td>\n",
       "      <td>0</td>\n",
       "      <td>Low</td>\n",
       "      <td>Atypical</td>\n",
       "      <td>Fixed defect</td>\n",
       "      <td>0</td>\n",
       "      <td>Normal</td>\n",
       "      <td>0</td>\n",
       "      <td>101</td>\n",
       "      <td>High</td>\n",
       "    </tr>\n",
       "    <tr>\n",
       "      <th>6</th>\n",
       "      <td>20</td>\n",
       "      <td>Male</td>\n",
       "      <td>1</td>\n",
       "      <td>0</td>\n",
       "      <td>Low</td>\n",
       "      <td>15.12</td>\n",
       "      <td>0</td>\n",
       "      <td>0</td>\n",
       "      <td>164.8</td>\n",
       "      <td>154</td>\n",
       "      <td>67</td>\n",
       "      <td>0</td>\n",
       "      <td>Low</td>\n",
       "      <td>Non-anginal</td>\n",
       "      <td>Normal</td>\n",
       "      <td>0</td>\n",
       "      <td>Normal</td>\n",
       "      <td>0</td>\n",
       "      <td>176</td>\n",
       "      <td>Low</td>\n",
       "    </tr>\n",
       "    <tr>\n",
       "      <th>7</th>\n",
       "      <td>39</td>\n",
       "      <td>Female</td>\n",
       "      <td>0</td>\n",
       "      <td>0</td>\n",
       "      <td>Moderate</td>\n",
       "      <td>20.78</td>\n",
       "      <td>0</td>\n",
       "      <td>0</td>\n",
       "      <td>297.0</td>\n",
       "      <td>91</td>\n",
       "      <td>112</td>\n",
       "      <td>0</td>\n",
       "      <td>Low</td>\n",
       "      <td>Atypical</td>\n",
       "      <td>Normal</td>\n",
       "      <td>0</td>\n",
       "      <td>ST-T abnormality</td>\n",
       "      <td>1</td>\n",
       "      <td>134</td>\n",
       "      <td>Moderate</td>\n",
       "    </tr>\n",
       "    <tr>\n",
       "      <th>8</th>\n",
       "      <td>70</td>\n",
       "      <td>Male</td>\n",
       "      <td>0</td>\n",
       "      <td>1</td>\n",
       "      <td>High</td>\n",
       "      <td>29.20</td>\n",
       "      <td>0</td>\n",
       "      <td>0</td>\n",
       "      <td>280.7</td>\n",
       "      <td>121</td>\n",
       "      <td>71</td>\n",
       "      <td>0</td>\n",
       "      <td>Moderate</td>\n",
       "      <td>Non-anginal</td>\n",
       "      <td>Fixed defect</td>\n",
       "      <td>0</td>\n",
       "      <td>ST-T abnormality</td>\n",
       "      <td>0</td>\n",
       "      <td>168</td>\n",
       "      <td>Moderate</td>\n",
       "    </tr>\n",
       "    <tr>\n",
       "      <th>9</th>\n",
       "      <td>19</td>\n",
       "      <td>Female</td>\n",
       "      <td>0</td>\n",
       "      <td>0</td>\n",
       "      <td>High</td>\n",
       "      <td>35.54</td>\n",
       "      <td>0</td>\n",
       "      <td>1</td>\n",
       "      <td>275.0</td>\n",
       "      <td>167</td>\n",
       "      <td>76</td>\n",
       "      <td>0</td>\n",
       "      <td>Low</td>\n",
       "      <td>Typical</td>\n",
       "      <td>Reversible defect</td>\n",
       "      <td>1</td>\n",
       "      <td>Left Ventricular Hypertrophy</td>\n",
       "      <td>0</td>\n",
       "      <td>102</td>\n",
       "      <td>Moderate</td>\n",
       "    </tr>\n",
       "  </tbody>\n",
       "</table>\n",
       "</div>"
      ],
      "text/plain": [
       "   Age  Gender  Smoking  Alcohol_Consumption Physical_Activity_Level    BMI  \\\n",
       "0   69  Female        1                    0                Moderate  34.61   \n",
       "1   32    Male        0                    0                Moderate  22.75   \n",
       "2   89    Male        0                    1                Moderate  35.32   \n",
       "3   78    Male        0                    1                Moderate  18.23   \n",
       "4   38  Female        1                    0                Moderate  19.82   \n",
       "5   41    Male        0                    1                Moderate  36.11   \n",
       "6   20    Male        1                    0                     Low  15.12   \n",
       "7   39  Female        0                    0                Moderate  20.78   \n",
       "8   70    Male        0                    1                    High  29.20   \n",
       "9   19  Female        0                    0                    High  35.54   \n",
       "\n",
       "   Diabetes  Hypertension  Cholesterol_Level  Resting_BP  Heart_Rate  \\\n",
       "0         1             0              152.1         171          85   \n",
       "1         0             0              166.8         126         103   \n",
       "2         0             0              272.3         123         127   \n",
       "3         1             0              237.7         144         125   \n",
       "4         0             0              207.7         123         107   \n",
       "5         0             0              271.2         141         119   \n",
       "6         0             0              164.8         154          67   \n",
       "7         0             0              297.0          91         112   \n",
       "8         0             0              280.7         121          71   \n",
       "9         0             1              275.0         167          76   \n",
       "\n",
       "   Family_History Stress_Level Chest_Pain_Type        Thalassemia  \\\n",
       "0               0     Moderate     Non-anginal  Reversible defect   \n",
       "1               0          Low    Asymptomatic             Normal   \n",
       "2               0          Low         Typical  Reversible defect   \n",
       "3               0          Low         Typical       Fixed defect   \n",
       "4               0         High    Asymptomatic  Reversible defect   \n",
       "5               0          Low        Atypical       Fixed defect   \n",
       "6               0          Low     Non-anginal             Normal   \n",
       "7               0          Low        Atypical             Normal   \n",
       "8               0     Moderate     Non-anginal       Fixed defect   \n",
       "9               0          Low         Typical  Reversible defect   \n",
       "\n",
       "   Fasting_Blood_Sugar                   ECG_Results  Exercise_Induced_Angina  \\\n",
       "0                    0                        Normal                        0   \n",
       "1                    0              ST-T abnormality                        0   \n",
       "2                    0              ST-T abnormality                        0   \n",
       "3                    1  Left Ventricular Hypertrophy                        0   \n",
       "4                    0              ST-T abnormality                        0   \n",
       "5                    0                        Normal                        0   \n",
       "6                    0                        Normal                        0   \n",
       "7                    0              ST-T abnormality                        1   \n",
       "8                    0              ST-T abnormality                        0   \n",
       "9                    1  Left Ventricular Hypertrophy                        0   \n",
       "\n",
       "   Max_Heart_Rate_Achieved Heart_Attack_Risk  \n",
       "0                      114               Low  \n",
       "1                      173          Moderate  \n",
       "2                      109               Low  \n",
       "3                      129               Low  \n",
       "4                      124          Moderate  \n",
       "5                      101              High  \n",
       "6                      176               Low  \n",
       "7                      134          Moderate  \n",
       "8                      168          Moderate  \n",
       "9                      102          Moderate  "
      ]
     },
     "execution_count": 8,
     "metadata": {},
     "output_type": "execute_result"
    }
   ],
   "source": [
    "f.head(10)"
   ]
  },
  {
   "cell_type": "markdown",
   "id": "49720194",
   "metadata": {
    "papermill": {
     "duration": 0.005138,
     "end_time": "2025-01-13T16:20:24.725865",
     "exception": false,
     "start_time": "2025-01-13T16:20:24.720727",
     "status": "completed"
    },
    "tags": []
   },
   "source": [
    "View the first few rows"
   ]
  },
  {
   "cell_type": "code",
   "execution_count": 9,
   "id": "4ea7597b",
   "metadata": {
    "execution": {
     "iopub.execute_input": "2025-01-13T16:20:24.737796Z",
     "iopub.status.busy": "2025-01-13T16:20:24.737495Z",
     "iopub.status.idle": "2025-01-13T16:20:24.752328Z",
     "shell.execute_reply": "2025-01-13T16:20:24.751416Z"
    },
    "papermill": {
     "duration": 0.022924,
     "end_time": "2025-01-13T16:20:24.754170",
     "exception": false,
     "start_time": "2025-01-13T16:20:24.731246",
     "status": "completed"
    },
    "tags": []
   },
   "outputs": [
    {
     "data": {
      "text/html": [
       "<div>\n",
       "<style scoped>\n",
       "    .dataframe tbody tr th:only-of-type {\n",
       "        vertical-align: middle;\n",
       "    }\n",
       "\n",
       "    .dataframe tbody tr th {\n",
       "        vertical-align: top;\n",
       "    }\n",
       "\n",
       "    .dataframe thead th {\n",
       "        text-align: right;\n",
       "    }\n",
       "</style>\n",
       "<table border=\"1\" class=\"dataframe\">\n",
       "  <thead>\n",
       "    <tr style=\"text-align: right;\">\n",
       "      <th></th>\n",
       "      <th>Age</th>\n",
       "      <th>Gender</th>\n",
       "      <th>Smoking</th>\n",
       "      <th>Alcohol_Consumption</th>\n",
       "      <th>Physical_Activity_Level</th>\n",
       "      <th>BMI</th>\n",
       "      <th>Diabetes</th>\n",
       "      <th>Hypertension</th>\n",
       "      <th>Cholesterol_Level</th>\n",
       "      <th>Resting_BP</th>\n",
       "      <th>Heart_Rate</th>\n",
       "      <th>Family_History</th>\n",
       "      <th>Stress_Level</th>\n",
       "      <th>Chest_Pain_Type</th>\n",
       "      <th>Thalassemia</th>\n",
       "      <th>Fasting_Blood_Sugar</th>\n",
       "      <th>ECG_Results</th>\n",
       "      <th>Exercise_Induced_Angina</th>\n",
       "      <th>Max_Heart_Rate_Achieved</th>\n",
       "      <th>Heart_Attack_Risk</th>\n",
       "    </tr>\n",
       "  </thead>\n",
       "  <tbody>\n",
       "    <tr>\n",
       "      <th>49990</th>\n",
       "      <td>45</td>\n",
       "      <td>Female</td>\n",
       "      <td>0</td>\n",
       "      <td>1</td>\n",
       "      <td>Moderate</td>\n",
       "      <td>18.21</td>\n",
       "      <td>0</td>\n",
       "      <td>1</td>\n",
       "      <td>253.3</td>\n",
       "      <td>171</td>\n",
       "      <td>126</td>\n",
       "      <td>0</td>\n",
       "      <td>Low</td>\n",
       "      <td>Atypical</td>\n",
       "      <td>Normal</td>\n",
       "      <td>0</td>\n",
       "      <td>Normal</td>\n",
       "      <td>0</td>\n",
       "      <td>117</td>\n",
       "      <td>Low</td>\n",
       "    </tr>\n",
       "    <tr>\n",
       "      <th>49991</th>\n",
       "      <td>66</td>\n",
       "      <td>Male</td>\n",
       "      <td>0</td>\n",
       "      <td>0</td>\n",
       "      <td>Low</td>\n",
       "      <td>32.21</td>\n",
       "      <td>0</td>\n",
       "      <td>0</td>\n",
       "      <td>168.2</td>\n",
       "      <td>144</td>\n",
       "      <td>72</td>\n",
       "      <td>1</td>\n",
       "      <td>Moderate</td>\n",
       "      <td>Non-anginal</td>\n",
       "      <td>Reversible defect</td>\n",
       "      <td>0</td>\n",
       "      <td>ST-T abnormality</td>\n",
       "      <td>0</td>\n",
       "      <td>173</td>\n",
       "      <td>High</td>\n",
       "    </tr>\n",
       "    <tr>\n",
       "      <th>49992</th>\n",
       "      <td>62</td>\n",
       "      <td>Female</td>\n",
       "      <td>0</td>\n",
       "      <td>0</td>\n",
       "      <td>Moderate</td>\n",
       "      <td>23.53</td>\n",
       "      <td>0</td>\n",
       "      <td>0</td>\n",
       "      <td>181.8</td>\n",
       "      <td>94</td>\n",
       "      <td>93</td>\n",
       "      <td>1</td>\n",
       "      <td>Moderate</td>\n",
       "      <td>Non-anginal</td>\n",
       "      <td>Fixed defect</td>\n",
       "      <td>0</td>\n",
       "      <td>ST-T abnormality</td>\n",
       "      <td>1</td>\n",
       "      <td>104</td>\n",
       "      <td>Low</td>\n",
       "    </tr>\n",
       "    <tr>\n",
       "      <th>49993</th>\n",
       "      <td>77</td>\n",
       "      <td>Female</td>\n",
       "      <td>0</td>\n",
       "      <td>1</td>\n",
       "      <td>Moderate</td>\n",
       "      <td>36.89</td>\n",
       "      <td>0</td>\n",
       "      <td>0</td>\n",
       "      <td>196.7</td>\n",
       "      <td>154</td>\n",
       "      <td>107</td>\n",
       "      <td>0</td>\n",
       "      <td>Moderate</td>\n",
       "      <td>Typical</td>\n",
       "      <td>Reversible defect</td>\n",
       "      <td>0</td>\n",
       "      <td>Normal</td>\n",
       "      <td>0</td>\n",
       "      <td>101</td>\n",
       "      <td>Low</td>\n",
       "    </tr>\n",
       "    <tr>\n",
       "      <th>49994</th>\n",
       "      <td>73</td>\n",
       "      <td>Male</td>\n",
       "      <td>0</td>\n",
       "      <td>0</td>\n",
       "      <td>Moderate</td>\n",
       "      <td>35.78</td>\n",
       "      <td>0</td>\n",
       "      <td>1</td>\n",
       "      <td>171.7</td>\n",
       "      <td>136</td>\n",
       "      <td>100</td>\n",
       "      <td>1</td>\n",
       "      <td>Moderate</td>\n",
       "      <td>Non-anginal</td>\n",
       "      <td>Reversible defect</td>\n",
       "      <td>0</td>\n",
       "      <td>Left Ventricular Hypertrophy</td>\n",
       "      <td>0</td>\n",
       "      <td>101</td>\n",
       "      <td>Low</td>\n",
       "    </tr>\n",
       "    <tr>\n",
       "      <th>49995</th>\n",
       "      <td>21</td>\n",
       "      <td>Male</td>\n",
       "      <td>0</td>\n",
       "      <td>0</td>\n",
       "      <td>Low</td>\n",
       "      <td>39.93</td>\n",
       "      <td>0</td>\n",
       "      <td>0</td>\n",
       "      <td>269.9</td>\n",
       "      <td>171</td>\n",
       "      <td>113</td>\n",
       "      <td>0</td>\n",
       "      <td>High</td>\n",
       "      <td>Typical</td>\n",
       "      <td>Reversible defect</td>\n",
       "      <td>0</td>\n",
       "      <td>ST-T abnormality</td>\n",
       "      <td>0</td>\n",
       "      <td>122</td>\n",
       "      <td>High</td>\n",
       "    </tr>\n",
       "    <tr>\n",
       "      <th>49996</th>\n",
       "      <td>35</td>\n",
       "      <td>Female</td>\n",
       "      <td>0</td>\n",
       "      <td>0</td>\n",
       "      <td>Low</td>\n",
       "      <td>18.10</td>\n",
       "      <td>0</td>\n",
       "      <td>0</td>\n",
       "      <td>235.8</td>\n",
       "      <td>146</td>\n",
       "      <td>71</td>\n",
       "      <td>0</td>\n",
       "      <td>Moderate</td>\n",
       "      <td>Non-anginal</td>\n",
       "      <td>Fixed defect</td>\n",
       "      <td>1</td>\n",
       "      <td>ST-T abnormality</td>\n",
       "      <td>0</td>\n",
       "      <td>121</td>\n",
       "      <td>Moderate</td>\n",
       "    </tr>\n",
       "    <tr>\n",
       "      <th>49997</th>\n",
       "      <td>46</td>\n",
       "      <td>Male</td>\n",
       "      <td>0</td>\n",
       "      <td>1</td>\n",
       "      <td>High</td>\n",
       "      <td>21.42</td>\n",
       "      <td>0</td>\n",
       "      <td>0</td>\n",
       "      <td>172.8</td>\n",
       "      <td>146</td>\n",
       "      <td>85</td>\n",
       "      <td>1</td>\n",
       "      <td>Low</td>\n",
       "      <td>Typical</td>\n",
       "      <td>Fixed defect</td>\n",
       "      <td>0</td>\n",
       "      <td>Left Ventricular Hypertrophy</td>\n",
       "      <td>0</td>\n",
       "      <td>125</td>\n",
       "      <td>Low</td>\n",
       "    </tr>\n",
       "    <tr>\n",
       "      <th>49998</th>\n",
       "      <td>56</td>\n",
       "      <td>Male</td>\n",
       "      <td>0</td>\n",
       "      <td>1</td>\n",
       "      <td>Low</td>\n",
       "      <td>29.93</td>\n",
       "      <td>0</td>\n",
       "      <td>0</td>\n",
       "      <td>244.1</td>\n",
       "      <td>151</td>\n",
       "      <td>110</td>\n",
       "      <td>0</td>\n",
       "      <td>Low</td>\n",
       "      <td>Asymptomatic</td>\n",
       "      <td>Reversible defect</td>\n",
       "      <td>0</td>\n",
       "      <td>Normal</td>\n",
       "      <td>0</td>\n",
       "      <td>149</td>\n",
       "      <td>Moderate</td>\n",
       "    </tr>\n",
       "    <tr>\n",
       "      <th>49999</th>\n",
       "      <td>72</td>\n",
       "      <td>Male</td>\n",
       "      <td>0</td>\n",
       "      <td>0</td>\n",
       "      <td>High</td>\n",
       "      <td>30.85</td>\n",
       "      <td>0</td>\n",
       "      <td>0</td>\n",
       "      <td>191.8</td>\n",
       "      <td>142</td>\n",
       "      <td>70</td>\n",
       "      <td>0</td>\n",
       "      <td>High</td>\n",
       "      <td>Asymptomatic</td>\n",
       "      <td>Normal</td>\n",
       "      <td>0</td>\n",
       "      <td>ST-T abnormality</td>\n",
       "      <td>0</td>\n",
       "      <td>144</td>\n",
       "      <td>Moderate</td>\n",
       "    </tr>\n",
       "  </tbody>\n",
       "</table>\n",
       "</div>"
      ],
      "text/plain": [
       "       Age  Gender  Smoking  Alcohol_Consumption Physical_Activity_Level  \\\n",
       "49990   45  Female        0                    1                Moderate   \n",
       "49991   66    Male        0                    0                     Low   \n",
       "49992   62  Female        0                    0                Moderate   \n",
       "49993   77  Female        0                    1                Moderate   \n",
       "49994   73    Male        0                    0                Moderate   \n",
       "49995   21    Male        0                    0                     Low   \n",
       "49996   35  Female        0                    0                     Low   \n",
       "49997   46    Male        0                    1                    High   \n",
       "49998   56    Male        0                    1                     Low   \n",
       "49999   72    Male        0                    0                    High   \n",
       "\n",
       "         BMI  Diabetes  Hypertension  Cholesterol_Level  Resting_BP  \\\n",
       "49990  18.21         0             1              253.3         171   \n",
       "49991  32.21         0             0              168.2         144   \n",
       "49992  23.53         0             0              181.8          94   \n",
       "49993  36.89         0             0              196.7         154   \n",
       "49994  35.78         0             1              171.7         136   \n",
       "49995  39.93         0             0              269.9         171   \n",
       "49996  18.10         0             0              235.8         146   \n",
       "49997  21.42         0             0              172.8         146   \n",
       "49998  29.93         0             0              244.1         151   \n",
       "49999  30.85         0             0              191.8         142   \n",
       "\n",
       "       Heart_Rate  Family_History Stress_Level Chest_Pain_Type  \\\n",
       "49990         126               0          Low        Atypical   \n",
       "49991          72               1     Moderate     Non-anginal   \n",
       "49992          93               1     Moderate     Non-anginal   \n",
       "49993         107               0     Moderate         Typical   \n",
       "49994         100               1     Moderate     Non-anginal   \n",
       "49995         113               0         High         Typical   \n",
       "49996          71               0     Moderate     Non-anginal   \n",
       "49997          85               1          Low         Typical   \n",
       "49998         110               0          Low    Asymptomatic   \n",
       "49999          70               0         High    Asymptomatic   \n",
       "\n",
       "             Thalassemia  Fasting_Blood_Sugar                   ECG_Results  \\\n",
       "49990             Normal                    0                        Normal   \n",
       "49991  Reversible defect                    0              ST-T abnormality   \n",
       "49992       Fixed defect                    0              ST-T abnormality   \n",
       "49993  Reversible defect                    0                        Normal   \n",
       "49994  Reversible defect                    0  Left Ventricular Hypertrophy   \n",
       "49995  Reversible defect                    0              ST-T abnormality   \n",
       "49996       Fixed defect                    1              ST-T abnormality   \n",
       "49997       Fixed defect                    0  Left Ventricular Hypertrophy   \n",
       "49998  Reversible defect                    0                        Normal   \n",
       "49999             Normal                    0              ST-T abnormality   \n",
       "\n",
       "       Exercise_Induced_Angina  Max_Heart_Rate_Achieved Heart_Attack_Risk  \n",
       "49990                        0                      117               Low  \n",
       "49991                        0                      173              High  \n",
       "49992                        1                      104               Low  \n",
       "49993                        0                      101               Low  \n",
       "49994                        0                      101               Low  \n",
       "49995                        0                      122              High  \n",
       "49996                        0                      121          Moderate  \n",
       "49997                        0                      125               Low  \n",
       "49998                        0                      149          Moderate  \n",
       "49999                        0                      144          Moderate  "
      ]
     },
     "execution_count": 9,
     "metadata": {},
     "output_type": "execute_result"
    }
   ],
   "source": [
    "f.tail(10)"
   ]
  },
  {
   "cell_type": "markdown",
   "id": "b9389006",
   "metadata": {
    "papermill": {
     "duration": 0.005477,
     "end_time": "2025-01-13T16:20:24.765913",
     "exception": false,
     "start_time": "2025-01-13T16:20:24.760436",
     "status": "completed"
    },
    "tags": []
   },
   "source": [
    "Check for Missing Values:"
   ]
  },
  {
   "cell_type": "code",
   "execution_count": 10,
   "id": "9db9a145",
   "metadata": {
    "execution": {
     "iopub.execute_input": "2025-01-13T16:20:24.778857Z",
     "iopub.status.busy": "2025-01-13T16:20:24.778568Z",
     "iopub.status.idle": "2025-01-13T16:20:24.796493Z",
     "shell.execute_reply": "2025-01-13T16:20:24.794959Z"
    },
    "papermill": {
     "duration": 0.026466,
     "end_time": "2025-01-13T16:20:24.798190",
     "exception": false,
     "start_time": "2025-01-13T16:20:24.771724",
     "status": "completed"
    },
    "tags": []
   },
   "outputs": [
    {
     "name": "stdout",
     "output_type": "stream",
     "text": [
      "Age                        0\n",
      "Gender                     0\n",
      "Smoking                    0\n",
      "Alcohol_Consumption        0\n",
      "Physical_Activity_Level    0\n",
      "BMI                        0\n",
      "Diabetes                   0\n",
      "Hypertension               0\n",
      "Cholesterol_Level          0\n",
      "Resting_BP                 0\n",
      "Heart_Rate                 0\n",
      "Family_History             0\n",
      "Stress_Level               0\n",
      "Chest_Pain_Type            0\n",
      "Thalassemia                0\n",
      "Fasting_Blood_Sugar        0\n",
      "ECG_Results                0\n",
      "Exercise_Induced_Angina    0\n",
      "Max_Heart_Rate_Achieved    0\n",
      "Heart_Attack_Risk          0\n",
      "dtype: int64\n"
     ]
    }
   ],
   "source": [
    "missing_values=f.isnull().sum()\n",
    "print(missing_values)"
   ]
  },
  {
   "cell_type": "markdown",
   "id": "fe39bfec",
   "metadata": {
    "papermill": {
     "duration": 0.00512,
     "end_time": "2025-01-13T16:20:24.809040",
     "exception": false,
     "start_time": "2025-01-13T16:20:24.803920",
     "status": "completed"
    },
    "tags": []
   },
   "source": [
    "Visualize Missing Data"
   ]
  },
  {
   "cell_type": "markdown",
   "id": "99ecb64e",
   "metadata": {
    "papermill": {
     "duration": 0.005246,
     "end_time": "2025-01-13T16:20:24.819957",
     "exception": false,
     "start_time": "2025-01-13T16:20:24.814711",
     "status": "completed"
    },
    "tags": []
   },
   "source": []
  },
  {
   "cell_type": "code",
   "execution_count": 11,
   "id": "fc51630e",
   "metadata": {
    "execution": {
     "iopub.execute_input": "2025-01-13T16:20:24.831838Z",
     "iopub.status.busy": "2025-01-13T16:20:24.831560Z",
     "iopub.status.idle": "2025-01-13T16:20:27.301518Z",
     "shell.execute_reply": "2025-01-13T16:20:27.300588Z"
    },
    "papermill": {
     "duration": 2.477488,
     "end_time": "2025-01-13T16:20:27.302810",
     "exception": false,
     "start_time": "2025-01-13T16:20:24.825322",
     "status": "completed"
    },
    "tags": []
   },
   "outputs": [
    {
     "data": {
      "image/png": "[encoded data removed]",
      "text/plain": [
       "<Figure size 640x480 with 1 Axes>"
      ]
     },
     "metadata": {},
     "output_type": "display_data"
    }
   ],
   "source": [
    "import seaborn as sns\n",
    "import matplotlib.pyplot as plt\n",
    "sns.heatmap(f.isnull(), cbar=False, cmap='viridis')\n",
    "plt.show()"
   ]
  },
  {
   "cell_type": "markdown",
   "id": "22e79314",
   "metadata": {
    "papermill": {
     "duration": 0.006214,
     "end_time": "2025-01-13T16:20:27.315880",
     "exception": false,
     "start_time": "2025-01-13T16:20:27.309666",
     "status": "completed"
    },
    "tags": []
   },
   "source": [
    "Check for Duplicates"
   ]
  },
  {
   "cell_type": "code",
   "execution_count": 12,
   "id": "bad91091",
   "metadata": {
    "execution": {
     "iopub.execute_input": "2025-01-13T16:20:27.330555Z",
     "iopub.status.busy": "2025-01-13T16:20:27.330126Z",
     "iopub.status.idle": "2025-01-13T16:20:27.358694Z",
     "shell.execute_reply": "2025-01-13T16:20:27.357751Z"
    },
    "papermill": {
     "duration": 0.038087,
     "end_time": "2025-01-13T16:20:27.360546",
     "exception": false,
     "start_time": "2025-01-13T16:20:27.322459",
     "status": "completed"
    },
    "tags": []
   },
   "outputs": [
    {
     "name": "stdout",
     "output_type": "stream",
     "text": [
      "The number of duplicates rows: 0\n"
     ]
    }
   ],
   "source": [
    "duplicates=f.duplicated().sum()\n",
    "print(f'The number of duplicates rows: {duplicates}')"
   ]
  },
  {
   "cell_type": "markdown",
   "id": "adc893c5",
   "metadata": {
    "papermill": {
     "duration": 0.006325,
     "end_time": "2025-01-13T16:20:27.373847",
     "exception": false,
     "start_time": "2025-01-13T16:20:27.367522",
     "status": "completed"
    },
    "tags": []
   },
   "source": [
    "Remove Duplicates"
   ]
  },
  {
   "cell_type": "code",
   "execution_count": 13,
   "id": "554a0f21",
   "metadata": {
    "execution": {
     "iopub.execute_input": "2025-01-13T16:20:27.388226Z",
     "iopub.status.busy": "2025-01-13T16:20:27.387850Z",
     "iopub.status.idle": "2025-01-13T16:20:27.416835Z",
     "shell.execute_reply": "2025-01-13T16:20:27.415932Z"
    },
    "papermill": {
     "duration": 0.038127,
     "end_time": "2025-01-13T16:20:27.418522",
     "exception": false,
     "start_time": "2025-01-13T16:20:27.380395",
     "status": "completed"
    },
    "tags": []
   },
   "outputs": [],
   "source": [
    "data=f.drop_duplicates()"
   ]
  },
  {
   "cell_type": "markdown",
   "id": "5c7af582",
   "metadata": {
    "papermill": {
     "duration": 0.006592,
     "end_time": "2025-01-13T16:20:27.432629",
     "exception": false,
     "start_time": "2025-01-13T16:20:27.426037",
     "status": "completed"
    },
    "tags": []
   },
   "source": [
    " ***Understand Distributions and Relationships****"
   ]
  },
  {
   "cell_type": "markdown",
   "id": "9bab63e7",
   "metadata": {
    "papermill": {
     "duration": 0.009401,
     "end_time": "2025-01-13T16:20:27.449422",
     "exception": false,
     "start_time": "2025-01-13T16:20:27.440021",
     "status": "completed"
    },
    "tags": []
   },
   "source": [
    "Univariate Analysis:\n",
    "\n",
    "Plot distributions for numerical data."
   ]
  },
  {
   "cell_type": "code",
   "execution_count": 14,
   "id": "0d6a187f",
   "metadata": {
    "execution": {
     "iopub.execute_input": "2025-01-13T16:20:27.464720Z",
     "iopub.status.busy": "2025-01-13T16:20:27.464412Z",
     "iopub.status.idle": "2025-01-13T16:20:27.675503Z",
     "shell.execute_reply": "2025-01-13T16:20:27.674535Z"
    },
    "papermill": {
     "duration": 0.220287,
     "end_time": "2025-01-13T16:20:27.676916",
     "exception": false,
     "start_time": "2025-01-13T16:20:27.456629",
     "status": "completed"
    },
    "tags": []
   },
   "outputs": [
    {
     "data": {
      "text/plain": [
       "<Axes: >"
      ]
     },
     "execution_count": 14,
     "metadata": {},
     "output_type": "execute_result"
    },
    {
     "data": {
      "image/png": "[encoded data removed]",
      "text/plain": [
       "<Figure size 640x480 with 1 Axes>"
      ]
     },
     "metadata": {},
     "output_type": "display_data"
    }
   ],
   "source": [
    "data['Age'].hist(bins=30)"
   ]
  },
  {
   "cell_type": "markdown",
   "id": "3e01e4c8",
   "metadata": {
    "papermill": {
     "duration": 0.006586,
     "end_time": "2025-01-13T16:20:27.690872",
     "exception": false,
     "start_time": "2025-01-13T16:20:27.684286",
     "status": "completed"
    },
    "tags": []
   },
   "source": [
    "Count unique values for categorical data"
   ]
  },
  {
   "cell_type": "code",
   "execution_count": 15,
   "id": "7a459fee",
   "metadata": {
    "execution": {
     "iopub.execute_input": "2025-01-13T16:20:27.705698Z",
     "iopub.status.busy": "2025-01-13T16:20:27.705386Z",
     "iopub.status.idle": "2025-01-13T16:20:27.714815Z",
     "shell.execute_reply": "2025-01-13T16:20:27.713706Z"
    },
    "papermill": {
     "duration": 0.018859,
     "end_time": "2025-01-13T16:20:27.716465",
     "exception": false,
     "start_time": "2025-01-13T16:20:27.697606",
     "status": "completed"
    },
    "tags": []
   },
   "outputs": [
    {
     "data": {
      "text/plain": [
       "Physical_Activity_Level\n",
       "Low         20061\n",
       "Moderate    19994\n",
       "High         9945\n",
       "Name: count, dtype: int64"
      ]
     },
     "execution_count": 15,
     "metadata": {},
     "output_type": "execute_result"
    }
   ],
   "source": [
    "data['Physical_Activity_Level'].value_counts()"
   ]
  },
  {
   "cell_type": "markdown",
   "id": "ddd2c959",
   "metadata": {
    "papermill": {
     "duration": 0.006887,
     "end_time": "2025-01-13T16:20:27.730645",
     "exception": false,
     "start_time": "2025-01-13T16:20:27.723758",
     "status": "completed"
    },
    "tags": []
   },
   "source": [
    "Bivariate/Multivariate Analysis:\n",
    "\n",
    "Explore relationships between variables using scatter plots, heatmaps, etc."
   ]
  },
  {
   "cell_type": "code",
   "execution_count": 16,
   "id": "5b1b0a1a",
   "metadata": {
    "execution": {
     "iopub.execute_input": "2025-01-13T16:20:27.746294Z",
     "iopub.status.busy": "2025-01-13T16:20:27.745956Z",
     "iopub.status.idle": "2025-01-13T16:20:28.714871Z",
     "shell.execute_reply": "2025-01-13T16:20:28.714034Z"
    },
    "papermill": {
     "duration": 0.978468,
     "end_time": "2025-01-13T16:20:28.716216",
     "exception": false,
     "start_time": "2025-01-13T16:20:27.737748",
     "status": "completed"
    },
    "tags": []
   },
   "outputs": [
    {
     "name": "stderr",
     "output_type": "stream",
     "text": [
      "/usr/local/lib/python3.10/dist-packages/seaborn/_oldcore.py:1119: FutureWarning: use_inf_as_na option is deprecated and will be removed in a future version. Convert inf values to NaN before operating instead.\n",
      "  with pd.option_context('mode.use_inf_as_na', True):\n",
      "/usr/local/lib/python3.10/dist-packages/seaborn/_oldcore.py:1119: FutureWarning: use_inf_as_na option is deprecated and will be removed in a future version. Convert inf values to NaN before operating instead.\n",
      "  with pd.option_context('mode.use_inf_as_na', True):\n"
     ]
    },
    {
     "data": {
      "image/png": "[encoded data removed]",
      "text/plain": [
       "<Figure size 500x500 with 6 Axes>"
      ]
     },
     "metadata": {},
     "output_type": "display_data"
    }
   ],
   "source": [
    "\n",
    "sns.pairplot(data[['BMI', 'Age',]])\n",
    "plt.show()\n",
    "\n"
   ]
  },
  {
   "cell_type": "markdown",
   "id": "5231ce24",
   "metadata": {
    "papermill": {
     "duration": 0.009098,
     "end_time": "2025-01-13T16:20:28.734863",
     "exception": false,
     "start_time": "2025-01-13T16:20:28.725765",
     "status": "completed"
    },
    "tags": []
   },
   "source": [
    "Save cleaned dataset to a new file"
   ]
  },
  {
   "cell_type": "code",
   "execution_count": 17,
   "id": "26d35c5c",
   "metadata": {
    "execution": {
     "iopub.execute_input": "2025-01-13T16:20:28.754959Z",
     "iopub.status.busy": "2025-01-13T16:20:28.754637Z",
     "iopub.status.idle": "2025-01-13T16:20:28.924925Z",
     "shell.execute_reply": "2025-01-13T16:20:28.923858Z"
    },
    "papermill": {
     "duration": 0.181993,
     "end_time": "2025-01-13T16:20:28.926156",
     "exception": false,
     "start_time": "2025-01-13T16:20:28.744163",
     "status": "completed"
    },
    "tags": []
   },
   "outputs": [
    {
     "name": "stdout",
     "output_type": "stream",
     "text": [
      "\n",
      "Cleaned dataset saved as 'cleaned_dataset.csv'.\n"
     ]
    }
   ],
   "source": [
    "data.to_csv('cleaned_dataset.csv', index=False)\n",
    "print(\"\\nCleaned dataset saved as 'cleaned_dataset.csv'.\")"
   ]
  },
  {
   "cell_type": "code",
   "execution_count": null,
   "id": "8a613b40",
   "metadata": {
    "papermill": {
     "duration": 0.008922,
     "end_time": "2025-01-13T16:20:28.944324",
     "exception": false,
     "start_time": "2025-01-13T16:20:28.935402",
     "status": "completed"
    },
    "tags": []
   },
   "outputs": [],
   "source": []
  }
 ],
 "metadata": {
  "kaggle": {
   "accelerator": "none",
   "dataSources": [
    {
     "datasetId": 6476521,
     "sourceId": 10461234,
     "sourceType": "datasetVersion"
    }
   ],
   "dockerImageVersionId": 30822,
   "isGpuEnabled": false,
   "isInternetEnabled": true,
   "language": "python",
   "sourceType": "notebook"
  },
  "kernelspec": {
   "display_name": "Python 3",
   "language": "python",
   "name": "python3"
  },
  "language_info": {
   "codemirror_mode": {
    "name": "ipython",
    "version": 3
   },
   "file_extension": ".py",
   "mimetype": "text/x-python",
   "name": "python",
   "nbconvert_exporter": "python",
   "pygments_lexer": "ipython3",
   "version": "3.10.12"
  },
  "papermill": {
   "default_parameters": {},
   "duration": 7.457062,
   "end_time": "2025-01-13T16:20:29.573414",
   "environment_variables": {},
   "exception": null,
   "input_path": "__notebook__.ipynb",
   "output_path": "__notebook__.ipynb",
   "parameters": {},
   "start_time": "2025-01-13T16:20:22.116352",
   "version": "2.6.0"
  }
 },
 "nbformat": 4,
 "nbformat_minor": 5
}
